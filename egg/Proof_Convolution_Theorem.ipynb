{
 "metadata": {
  "name": ""
 },
 "nbformat": 3,
 "nbformat_minor": 0,
 "worksheets": [
  {
   "cells": [
    {
     "cell_type": "heading",
     "level": 1,
     "metadata": {},
     "source": [
      "\u61c9\u6578\u6240\u78a9\u4e00   \u9ec3\u5efa\u570b   L16031043<br>\n",
      "<font color='red'>\n",
      "Proof Convolution Theorem"
     ]
    },
    {
     "cell_type": "markdown",
     "metadata": {},
     "source": [
      "<font color='blue'>\n",
      "For given $\\{x_n\\}^{n=N-1}_{n=0},\\{y_n\\}^{n=N-1}_{n=0}$ , where $y_{-j}=y_{N-j}$  when  $1\\leq j \\leq N-1$. <br>\n",
      "Let $z_k=\\sum_{n=0}^{N-1}x_n \\cdot y_{k-n}$ , $X_k=\\sum_{n=0}^{N-1}x_n\\cdot \\omega_N^{-kn}$ , $Y_k=\\sum_{n=0}^{N-1}y_n\\cdot \\omega_N^{-kn}$,<br>\n",
      "and $Z_k=\\sum_{n=0}^{N-1}z_n\\cdot \\omega_N^{-kn}$ , where $\\omega_N=\\cos(\\frac{2\\cdot \\pi}{N})+i\\cdot \\sin(\\frac{2\\cdot \\pi}{N})$<br><br>\n",
      "Prove that $Z_k=X_k \\cdot Y_k$ for $0 \\leq k \\leq N-1$<br>\n",
      "</font>"
     ]
    },
    {
     "cell_type": "markdown",
     "metadata": {},
     "source": [
      "P.f:<br>\n",
      "STEP1:\u9996\u5148\u628a$Z_k$\u5beb\u6e05\u695a<br>\n",
      "$Z_k=\\sum_{a=0}^{N-1}z_a\\cdot \\omega_N^{-ak}=\\sum_{a=0}^{N-1} (\\sum_{b=0}^{N-1} x_b\\cdot y_{a-b})  \\omega_N^{-ak}$<br>\n",
      "\u56e0\u70ba$\\omega_N^{-ak} = \\omega_N^{-bk}\\cdot \\omega_N^{-(a-b)k}$ \uff0c \u6240\u4ee5$Z_k=\\sum_{a=0}^{N-1} \\sum_{b=0}^{N-1} (x_b\\cdot y_{a-b} \\cdot \\omega_N^{-bk}\\cdot \\omega_N^{-(a-b)k})$<br>\n",
      "\u56e0\u70ba\u662f\u6709\u9650\u548c\uff0c\u53ef\u4ee5\u8abf\u63db\u548c\u7684\u9806\u5e8f\uff0c\u6240\u4ee5$Z_k=\\sum_{b=0}^{N-1} \\sum_{a=0}^{N-1} (x_b\\cdot y_{a-b} \\cdot \\omega_N^{-bk}\\cdot \\omega_N^{-(a-b)k})$<br>\n",
      "\u628a\u8ddf$a$\u7121\u95dc\u7684\u9805\u653e\u5230\u5916\u9762\uff0c\u53ef\u4ee5\u5f97\u5230$Z_k=\\sum_{b=0}^{N-1} x_b\\cdot \\omega_N^{-bk}(\\sum_{a=0}^{N-1}  y_{a-b} \\cdot   \\omega_N^{-(a-b)k})$<br><br>\n",
      "\n",
      "STEP2:\u73fe\u5728\u628a\u6ce8\u610f\u529b\u653e\u5728$\\sum_{a=0}^{N-1}  y_{a-b} \\cdot \\omega_N^{-(a-b)k} $ <br>\n",
      "\u7576$b=0$\uff0c\u9019\u4e9b\u9805\u7684\u548c\u660e\u986f\u662f$Y_k$.<br>\n",
      "\u7576$b=1$\uff0c\u591a\u4e86\u4e00\u9805$y_{-1} \\cdot \\omega_N^{k}$\uff0c\u5c11\u4e86\u4e00\u9805$y_{N-1} \\cdot \\omega_N^{-(N-1)k}$<br>\n",
      "\u4f46\u7531\u984c\u76ee\u7684\u689d\u4ef6\u4ee5\u53ca$\\omega_N$\u7684\u9031\u671f\u6027\uff0c\u5f97\u77e5$y_{-1} \\cdot \\omega_N^{k}=y_{N-1} \\cdot \\omega_N^{-(N-1)k}$<br>\n",
      "\u4f9d\u6b64\u985e\u63a8\uff0c$\\sum_{a=0}^{N-1}  y_{a-b} \\cdot \\omega_N^{-(a-b)k} =Y_k$ , for $0\\leq b \\leq N-1$<br><br>\n",
      "\n",
      "STEP3:\u628aSTEP2\u7684\u7d50\u679c\u4ee3\u5165STEP1<br>\n",
      "\u5247$Z_k=\\sum_{b=0}^{N-1} x_b\\cdot \\omega_N^{-bk} Y_k$<br>\n",
      "\u56e0\u70ba$Y_k$\u548c$b$\u7121\u95dc\uff0c\u5c07\u5b83\u653e\u5230\u548c\u7684\u5916\u9762<br>\n",
      "$\\Rightarrow Z_k= Y_k \\cdot \\sum_{b=0}^{N-1} x_b\\cdot \\omega_N^{-bk}=Y_k \\cdot X_k$<br>\n",
      "\u8b49\u660e\u5b8c\u7562\u3002"
     ]
    }
   ],
   "metadata": {}
  }
 ]
}